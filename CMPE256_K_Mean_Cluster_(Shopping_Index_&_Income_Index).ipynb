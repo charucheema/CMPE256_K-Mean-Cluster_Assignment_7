{
  "nbformat": 4,
  "nbformat_minor": 0,
  "metadata": {
    "colab": {
      "name": "CMPE256_K Mean Cluster (Shopping Index & Income Index).ipynb",
      "provenance": [],
      "collapsed_sections": [],
      "authorship_tag": "ABX9TyPQUQfP+QZ0kz3CwfdBP1xT",
      "include_colab_link": true
    },
    "kernelspec": {
      "name": "python3",
      "display_name": "Python 3"
    },
    "language_info": {
      "name": "python"
    }
  },
  "cells": [
    {
      "cell_type": "markdown",
      "metadata": {
        "id": "view-in-github",
        "colab_type": "text"
      },
      "source": [
        "<a href=\"https://colab.research.google.com/github/charucheema/CMPE256_K-Mean-Cluster_Assignment_7/blob/main/CMPE256_K_Mean_Cluster_(Shopping_Index_%26_Income_Index).ipynb\" target=\"_parent\"><img src=\"https://colab.research.google.com/assets/colab-badge.svg\" alt=\"Open In Colab\"/></a>"
      ]
    },
    {
      "cell_type": "markdown",
      "metadata": {
        "id": "aGVtms4U-KL8"
      },
      "source": [
        "**Part B: Please develop Python code to Cluster K = 2, K = 3 & K = 4**\n",
        "\n"
      ]
    },
    {
      "cell_type": "code",
      "metadata": {
        "id": "JXe4yYyv-P2Q"
      },
      "source": [
        "#importing libraries\n",
        "from sklearn.cluster import KMeans\n",
        "from sklearn import metrics\n",
        "import numpy as np\n",
        "import matplotlib.pyplot as plt\n",
        "x1= np.array([3.0, 3.0, 5.0, 2.0, 4.0, 6.0, 6.0, 6.0, 5.0, 6.0, 7.0, 8.0, 9.0, 8.0, 9.0, 9.0, 8.0])\n",
        "x2= np.array([5.0, 4.0, 6.0, 6.0, 5.0, 8.0, 2.0, 3.0, 6.0, 7.0, 2.0, 5.0, 1.0, 2.0, 6.0, 1.0, 3.0])"
      ],
      "execution_count": 80,
      "outputs": []
    },
    {
      "cell_type": "code",
      "metadata": {
        "colab": {
          "base_uri": "https://localhost:8080/",
          "height": 569
        },
        "id": "njWlPAbXAWG_",
        "outputId": "2726df5e-a1c9-44d3-e534-eb19a2109996"
      },
      "source": [
        "# Data Visualisation\n",
        "labels = range(1, 19)\n",
        "plt.figure(figsize=(10, 9)) \n",
        "plt.subplots_adjust(bottom=0.1) \n",
        "plt.title('Dataset')\n",
        "plt.scatter(x1, x2, label='True Position')\n",
        "for label, x, y in zip(labels, X[:, 0],X[:, 1]):\n",
        "    plt.annotate(\n",
        "        label,\n",
        "        xy=(x, y), xytext=(-3, 3),\n",
        "        textcoords='offset points', ha='right', va='bottom')\n",
        "plt.show()"
      ],
      "execution_count": 81,
      "outputs": [
        {
          "output_type": "display_data",
          "data": {
            "image/png": "[encoded data removed]",
            "text/plain": [
              "<Figure size 720x648 with 1 Axes>"
            ]
          },
          "metadata": {
            "needs_background": "light"
          }
        }
      ]
    },
    {
      "cell_type": "markdown",
      "metadata": {
        "id": "SqYD3vrcMEUO"
      },
      "source": [
        "**K-Means Clustering with K=2**"
      ]
    },
    {
      "cell_type": "code",
      "metadata": {
        "colab": {
          "base_uri": "https://localhost:8080/"
        },
        "id": "ouvma4VzDC3R",
        "outputId": "e9460271-f5f6-4f0d-9c4f-e52728b52585"
      },
      "source": [
        "X = np.array(list(zip(x1, x2))).reshape(len(x1), 2)\n",
        "kmeans = KMeans(n_clusters=2)\n",
        "cluster= kmeans.fit(X)\n",
        "cluster.fit_predict(X)\n",
        "print(cluster.labels_)"
      ],
      "execution_count": 82,
      "outputs": [
        {
          "output_type": "stream",
          "name": "stdout",
          "text": [
            "[1 1 1 1 1 1 0 0 1 1 0 0 0 0 0 0 0]\n"
          ]
        }
      ]
    },
    {
      "cell_type": "code",
      "metadata": {
        "colab": {
          "base_uri": "https://localhost:8080/",
          "height": 265
        },
        "id": "R48tVWxwI8jL",
        "outputId": "dab9194b-91ad-4d82-cb01-6ada37814dab"
      },
      "source": [
        "plt.scatter(X[:,0],X[:,1], c=cluster.labels_, cmap='rainbow')\n",
        "plt.show()"
      ],
      "execution_count": 83,
      "outputs": [
        {
          "output_type": "display_data",
          "data": {
            "image/png": "[encoded data removed]",
            "text/plain": [
              "<Figure size 432x288 with 1 Axes>"
            ]
          },
          "metadata": {
            "needs_background": "light"
          }
        }
      ]
    },
    {
      "cell_type": "markdown",
      "metadata": {
        "id": "Dbn_ruZnMUsl"
      },
      "source": [
        "**K-Means Clustering with K=3**"
      ]
    },
    {
      "cell_type": "code",
      "metadata": {
        "colab": {
          "base_uri": "https://localhost:8080/"
        },
        "id": "urE3XSNUMW99",
        "outputId": "0ba333aa-690d-46b0-c500-e483f350494f"
      },
      "source": [
        "X = np.array(list(zip(x1, x2))).reshape(len(x1), 2)\n",
        "kmeans = KMeans(n_clusters=3)\n",
        "cluster= kmeans.fit(X)\n",
        "cluster.fit_predict(X)\n",
        "print(cluster.labels_)"
      ],
      "execution_count": 84,
      "outputs": [
        {
          "output_type": "stream",
          "name": "stdout",
          "text": [
            "[0 0 0 0 0 2 1 1 0 2 1 2 1 1 2 1 1]\n"
          ]
        }
      ]
    },
    {
      "cell_type": "code",
      "metadata": {
        "colab": {
          "base_uri": "https://localhost:8080/",
          "height": 265
        },
        "id": "PE6NMT0mMawG",
        "outputId": "ae8b79df-1242-4e80-cae7-1a2bdf0dc2f6"
      },
      "source": [
        "plt.scatter(X[:,0],X[:,1], c=cluster.labels_, cmap='rainbow')\n",
        "plt.show()"
      ],
      "execution_count": 85,
      "outputs": [
        {
          "output_type": "display_data",
          "data": {
            "image/png": "[encoded data removed]",
            "text/plain": [
              "<Figure size 432x288 with 1 Axes>"
            ]
          },
          "metadata": {
            "needs_background": "light"
          }
        }
      ]
    },
    {
      "cell_type": "markdown",
      "metadata": {
        "id": "Mt7F50l6MdJ3"
      },
      "source": [
        "**K-Means Clustering with K=4**"
      ]
    },
    {
      "cell_type": "code",
      "metadata": {
        "colab": {
          "base_uri": "https://localhost:8080/"
        },
        "id": "hZmBSNUGMf9h",
        "outputId": "77bf212f-3c5e-4a06-916e-d33ecaef1dfe"
      },
      "source": [
        "X = np.array(list(zip(x1, x2))).reshape(len(x1), 2)\n",
        "kmeans = KMeans(n_clusters=4)\n",
        "cluster= kmeans.fit(X)\n",
        "cluster.fit_predict(X)\n",
        "print(cluster.labels_)"
      ],
      "execution_count": 86,
      "outputs": [
        {
          "output_type": "stream",
          "name": "stdout",
          "text": [
            "[0 0 2 0 0 2 1 1 2 2 1 3 1 1 3 1 1]\n"
          ]
        }
      ]
    },
    {
      "cell_type": "code",
      "metadata": {
        "colab": {
          "base_uri": "https://localhost:8080/",
          "height": 265
        },
        "id": "ECo4IuTaMnTy",
        "outputId": "aea1875b-4c5c-4156-c5f4-8a52fe18684b"
      },
      "source": [
        "plt.scatter(X[:,0],X[:,1], c=cluster.labels_, cmap='rainbow')\n",
        "plt.show()"
      ],
      "execution_count": 87,
      "outputs": [
        {
          "output_type": "display_data",
          "data": {
            "image/png": "[encoded data removed]",
            "text/plain": [
              "<Figure size 432x288 with 1 Axes>"
            ]
          },
          "metadata": {
            "needs_background": "light"
          }
        }
      ]
    }
  ]
}